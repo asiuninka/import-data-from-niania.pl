{
 "cells": [
  {
   "cell_type": "markdown",
   "id": "65e4fae4",
   "metadata": {},
   "source": [
    "Below you can find the code to import data from niania.pl website"
   ]
  },
  {
   "cell_type": "code",
   "execution_count": 1,
   "id": "64eb9c8e",
   "metadata": {},
   "outputs": [],
   "source": [
    "import requests\n",
    "from bs4 import BeautifulSoup\n",
    "import pandas as pd"
   ]
  },
  {
   "cell_type": "markdown",
   "id": "12637b9b",
   "metadata": {},
   "source": [
    "how many pages nianiapl has for chosen location:"
   ]
  },
  {
   "cell_type": "code",
   "execution_count": 2,
   "id": "bb21d2d7",
   "metadata": {},
   "outputs": [],
   "source": [
    "pages = 8"
   ]
  },
  {
   "cell_type": "markdown",
   "id": "72a8f134",
   "metadata": {},
   "source": [
    "create set to store offer links:"
   ]
  },
  {
   "cell_type": "code",
   "execution_count": 3,
   "id": "b5f80b64",
   "metadata": {},
   "outputs": [],
   "source": [
    "links = set()"
   ]
  },
  {
   "cell_type": "markdown",
   "id": "34a28cf9",
   "metadata": {},
   "source": [
    "create dictionary from which we will create df later:"
   ]
  },
  {
   "cell_type": "code",
   "execution_count": 4,
   "id": "7ca516b3",
   "metadata": {},
   "outputs": [],
   "source": [
    "dict = {'date': [], 'address': [], 'salary': [], 'employment': [], 'author': [], 'experience': [],\n",
    "           'nannys_age': [], 'additional_requirements': [], 'language1': [], 'language2':[], 'children': [],\n",
    "           'number_children': []}"
   ]
  },
  {
   "cell_type": "markdown",
   "id": "2e962c9a",
   "metadata": {},
   "source": [
    "getting all links and adding offer links:"
   ]
  },
  {
   "cell_type": "code",
   "execution_count": 5,
   "id": "06bba98b",
   "metadata": {},
   "outputs": [],
   "source": [
    "for page in range(1, pages+1):\n",
    "    page_link = f'''https://niania.pl/praca/warszawa?page={page}'''\n",
    "    response = requests.get(page_link)\n",
    "    soup = BeautifulSoup(response.text, 'html.parser')\n",
    "\n",
    "    tags = soup('a')\n",
    "\n",
    "    for tag in tags:\n",
    "        offer_link = tag.get('href',None)  \n",
    "        if type(offer_link) == str and offer_link.startswith('https://niania.pl/szukam/'):\n",
    "            links.add(offer_link)"
   ]
  },
  {
   "cell_type": "markdown",
   "id": "b42b93b5",
   "metadata": {},
   "source": [
    "how many offers do we have:"
   ]
  },
  {
   "cell_type": "code",
   "execution_count": 6,
   "id": "281b8206",
   "metadata": {},
   "outputs": [
    {
     "name": "stdout",
     "output_type": "stream",
     "text": [
      "number of offers:  235\n"
     ]
    }
   ],
   "source": [
    "print(f'number of offers: ', len(links))"
   ]
  },
  {
   "cell_type": "markdown",
   "id": "e3900b71",
   "metadata": {},
   "source": [
    "iterate through each offer to create connection with every page and get necessary data:"
   ]
  },
  {
   "cell_type": "code",
   "execution_count": 7,
   "id": "42457c21",
   "metadata": {},
   "outputs": [],
   "source": [
    "for link in links:\n",
    "\n",
    "    # create connection with every page:\n",
    "\n",
    "    response = requests.get(link)\n",
    "    soup = BeautifulSoup(response.text, 'html.parser')\n",
    "    soup_str = str(soup)\n",
    "\n",
    "    # get necessary data:\n",
    "\n",
    "    lista = soup.find('ul', class_=\"list-style-none summary\")\n",
    "    lista_oczekiwania = soup.find_all('li', class_=\"pico-tick-before\")\n",
    "\n",
    "    languages = soup.find_all('li', class_='pb-3 icon-lang-polish-before')\n",
    "\n",
    "    try: #first languge\n",
    "        language1 = languages[0].get_text().strip()\n",
    "    except IndexError:\n",
    "        language1 = None\n",
    "\n",
    "    try: #second languge\n",
    "        language2 = languages[1].get_text().strip()\n",
    "    except IndexError:\n",
    "        language2 = None\n",
    "\n",
    "    try: #nannys preferred age\n",
    "        nannys_age = lista_oczekiwania[3].find(\"strong\").get_text()\n",
    "    except (IndexError, AttributeError):\n",
    "        nannys_age = None\n",
    "\n",
    "\n",
    "    try: #announcement author\n",
    "        author = lista.select(\"li:nth-of-type(7)\")[0].find(\"strong\").get_text()\n",
    "    except AttributeError:\n",
    "        author = None\n",
    "\n",
    "    try: #nannys exeprience\n",
    "        experience = lista_oczekiwania[2].find(\"strong\").get_text()\n",
    "    except (IndexError, AttributeError):\n",
    "        experience = None\n",
    "\n",
    "    #date\n",
    "    date = soup.find('time').get_text()\n",
    "\n",
    "    #address\n",
    "    address = lista.select(\"li:nth-of-type(5)\")[0].find(\"span\").get_text()\n",
    "\n",
    "    #salary\n",
    "    salary = lista.select(\"li:nth-of-type(4)\")[0].find(\"span\").get_text()\n",
    "\n",
    "    # type of job\n",
    "    employment = lista.select(\"li:nth-of-type(3)\")[0].find_all(\"span\")\n",
    "    e = [employment.get_text() for employment in employment]\n",
    "    employment_list = [e.strip() for e in e]\n",
    "\n",
    "    additional_requirements = []\n",
    "\n",
    "    # extra requirements\n",
    "    for element in range(4, len(lista_oczekiwania)):\n",
    "        requirement = lista_oczekiwania[element].get_text().splitlines()\n",
    "        d = ' '.join(requirement)\n",
    "        d = d.strip()\n",
    "        additional_requirements.append(d)\n",
    "\n",
    "    # number of children\n",
    "    child = soup.find_all('li', class_='pb-2')\n",
    "\n",
    "    number_children = len(child)\n",
    "    children = []\n",
    "\n",
    "    try:\n",
    "        if len(child) > 1:\n",
    "            for element in range(0, len(child)):\n",
    "                p = child[element-1].get_text()\n",
    "                pp = p.strip()\n",
    "                children.append(pp)\n",
    "        else:\n",
    "            dd = child[0].get_text()\n",
    "            ddd = dd.strip()\n",
    "            children.append(ddd)\n",
    "    except IndexError:\n",
    "            children.append(None)\n",
    "\n",
    "    # data gathering:\n",
    "\n",
    "    headers = list(dict.keys())\n",
    "\n",
    "    dane = [date, address, salary, employment_list, author, experience, nannys_age, additional_requirements,\n",
    "            language1, language2, children, number_children]\n",
    "\n",
    "    for value in range(0, len(dane)):\n",
    "        try:\n",
    "            dict[headers[value]].append(dane[value])\n",
    "        except Exception:\n",
    "            dict[headers[value]].append(None)"
   ]
  },
  {
   "cell_type": "markdown",
   "id": "66a2375e",
   "metadata": {},
   "source": [
    "creating df with all data:"
   ]
  },
  {
   "cell_type": "code",
   "execution_count": 9,
   "id": "92210188",
   "metadata": {},
   "outputs": [],
   "source": [
    "df = pd.DataFrame(dict)"
   ]
  },
  {
   "cell_type": "markdown",
   "id": "0ee5a3ba",
   "metadata": {},
   "source": [
    "Creating a DataFrame to display the results"
   ]
  },
  {
   "cell_type": "code",
   "execution_count": 14,
   "id": "e0a94cdf",
   "metadata": {},
   "outputs": [
    {
     "data": {
      "text/html": [
       "<div>\n",
       "<style scoped>\n",
       "    .dataframe tbody tr th:only-of-type {\n",
       "        vertical-align: middle;\n",
       "    }\n",
       "\n",
       "    .dataframe tbody tr th {\n",
       "        vertical-align: top;\n",
       "    }\n",
       "\n",
       "    .dataframe thead th {\n",
       "        text-align: right;\n",
       "    }\n",
       "</style>\n",
       "<table border=\"1\" class=\"dataframe\">\n",
       "  <thead>\n",
       "    <tr style=\"text-align: right;\">\n",
       "      <th></th>\n",
       "      <th>Null Values</th>\n",
       "      <th>Non-Null Values</th>\n",
       "    </tr>\n",
       "  </thead>\n",
       "  <tbody>\n",
       "    <tr>\n",
       "      <th>language2</th>\n",
       "      <td>197</td>\n",
       "      <td>38</td>\n",
       "    </tr>\n",
       "    <tr>\n",
       "      <th>author</th>\n",
       "      <td>62</td>\n",
       "      <td>173</td>\n",
       "    </tr>\n",
       "    <tr>\n",
       "      <th>language1</th>\n",
       "      <td>59</td>\n",
       "      <td>176</td>\n",
       "    </tr>\n",
       "    <tr>\n",
       "      <th>experience</th>\n",
       "      <td>38</td>\n",
       "      <td>197</td>\n",
       "    </tr>\n",
       "    <tr>\n",
       "      <th>nannys_age</th>\n",
       "      <td>22</td>\n",
       "      <td>213</td>\n",
       "    </tr>\n",
       "    <tr>\n",
       "      <th>date</th>\n",
       "      <td>0</td>\n",
       "      <td>235</td>\n",
       "    </tr>\n",
       "    <tr>\n",
       "      <th>address</th>\n",
       "      <td>0</td>\n",
       "      <td>235</td>\n",
       "    </tr>\n",
       "    <tr>\n",
       "      <th>salary</th>\n",
       "      <td>0</td>\n",
       "      <td>235</td>\n",
       "    </tr>\n",
       "    <tr>\n",
       "      <th>employment</th>\n",
       "      <td>0</td>\n",
       "      <td>235</td>\n",
       "    </tr>\n",
       "    <tr>\n",
       "      <th>additional_requirements</th>\n",
       "      <td>0</td>\n",
       "      <td>235</td>\n",
       "    </tr>\n",
       "    <tr>\n",
       "      <th>children</th>\n",
       "      <td>0</td>\n",
       "      <td>235</td>\n",
       "    </tr>\n",
       "    <tr>\n",
       "      <th>number_children</th>\n",
       "      <td>0</td>\n",
       "      <td>235</td>\n",
       "    </tr>\n",
       "  </tbody>\n",
       "</table>\n",
       "</div>"
      ],
      "text/plain": [
       "                         Null Values  Non-Null Values\n",
       "language2                        197               38\n",
       "author                            62              173\n",
       "language1                         59              176\n",
       "experience                        38              197\n",
       "nannys_age                        22              213\n",
       "date                               0              235\n",
       "address                            0              235\n",
       "salary                             0              235\n",
       "employment                         0              235\n",
       "additional_requirements            0              235\n",
       "children                           0              235\n",
       "number_children                    0              235"
      ]
     },
     "execution_count": 14,
     "metadata": {},
     "output_type": "execute_result"
    }
   ],
   "source": [
    "#checking the number of null values\n",
    "null_counts = df.isnull().sum()\n",
    "\n",
    "# checking the number of non-null values \n",
    "non_null_counts = df.notnull().sum()\n",
    "\n",
    "result_df = pd.DataFrame({\n",
    "    'Column': df.columns,\n",
    "    'Null Values': null_counts,\n",
    "    'Non-Null Values': non_null_counts\n",
    "})\n",
    "result_df.iloc[:, 1:].sort_values('Null Values', ascending = False)"
   ]
  },
  {
   "cell_type": "markdown",
   "id": "454aea67",
   "metadata": {},
   "source": [
    "creating csv from df:"
   ]
  },
  {
   "cell_type": "code",
   "execution_count": 11,
   "id": "9e8b014a",
   "metadata": {},
   "outputs": [],
   "source": [
    "df.to_csv('niania_pl_final.csv')"
   ]
  }
 ],
 "metadata": {
  "kernelspec": {
   "display_name": "Python 3",
   "language": "python",
   "name": "python3"
  },
  "language_info": {
   "codemirror_mode": {
    "name": "ipython",
    "version": 3
   },
   "file_extension": ".py",
   "mimetype": "text/x-python",
   "name": "python",
   "nbconvert_exporter": "python",
   "pygments_lexer": "ipython3",
   "version": "3.6.9"
  }
 },
 "nbformat": 4,
 "nbformat_minor": 5
}
